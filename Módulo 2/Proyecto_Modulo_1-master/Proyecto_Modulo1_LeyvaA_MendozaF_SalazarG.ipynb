{
 "cells": [
  {
   "cell_type": "markdown",
   "metadata": {},
   "source": [
    "# Optimización mano de obra"
   ]
  },
  {
   "cell_type": "markdown",
   "metadata": {},
   "source": [
    "## integrantes:"
   ]
  },
  {
   "cell_type": "markdown",
   "metadata": {},
   "source": [
    "+ Integrante 1: Angel Leyva Trejo\n",
    "+ Integrante 2: Felipe Neri Mendoza González\n",
    "+ Integrante 3: Gabriel Salazar Rámirez"
   ]
  },
  {
   "cell_type": "code",
   "execution_count": 3,
   "metadata": {},
   "outputs": [],
   "source": [
    "import numpy as np\n",
    "import matplotlib.pyplot as plt\n",
    "import scipy.optimize as opt"
   ]
  },
  {
   "cell_type": "markdown",
   "metadata": {},
   "source": [
    "**Definimos variables**\n",
    "- $x_1$: número de maestros contratados en año i\n",
    "- $x_2$: número de albañiles contratados en año i\n",
    "- $x_3$: número de chalanes contratados en año i\n",
    "- $x_4$: número de maestros reclutados en año i\n",
    "- $x_5$: número de albañiles reclutados en año i\n",
    "- $x_6$: número de chalanes reclutados en año i\n",
    "- $x_7$: número de chalanes entrenados para albañiles en año i\n",
    "- $x_8$: número de albañiles entrenados para maestros en año i\n",
    "- $x_9$: número de maestros que descendieron a albañiles en año i\n",
    "- $x_10$: número de maestros que descendieron a chalanes en año i\n",
    "- $x_11$: número de albañiles que descendieron a chalanes en año i\n",
    "- $x_12$: número de maestros redundantes en año i\n",
    "- $x_13$: número de albañiles redundantes en año i\n",
    "- $x_14$: número de chalanes redundantes en año i\n",
    "- $x_15$: número de maestros que renunciaron en año i\n",
    "- $x_16$: número de albañiles que renunciaron en año i\n",
    "- $x_17$: número de chalanes que renunciaron en año i\n",
    "- $x_18$: número de maestros de sobra en año i\n",
    "- $x_19$: número de albañiles de sobra en año i\n",
    "- $x_18$: número de chalanes de sobra en año i\n"
   ]
  },
  {
   "cell_type": "markdown",
   "metadata": {},
   "source": [
    "**Definir funciones de restricción**\n",
    " $x_1$= (0.95$x_1$-1)+"
   ]
  },
  {
   "cell_type": "code",
   "execution_count": null,
   "metadata": {},
   "outputs": [],
   "source": []
  }
 ],
 "metadata": {
  "kernelspec": {
   "display_name": "Python 3",
   "language": "python",
   "name": "python3"
  },
  "language_info": {
   "codemirror_mode": {
    "name": "ipython",
    "version": 3
   },
   "file_extension": ".py",
   "mimetype": "text/x-python",
   "name": "python",
   "nbconvert_exporter": "python",
   "pygments_lexer": "ipython3",
   "version": "3.7.3"
  }
 },
 "nbformat": 4,
 "nbformat_minor": 2
}

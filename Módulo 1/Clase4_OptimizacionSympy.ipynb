{
 "cells": [
  {
   "cell_type": "markdown",
   "metadata": {},
   "source": [
    "# Optimización de funciones escalares diferenciables con `SymPy`\n",
    "\n",
    "<img style=\"float: right; margin: 0px 0px 15px 15px;\" src=\"https://upload.wikimedia.org/wikipedia/commons/thumb/b/b6/Extrema_example_es.svg/1200px-Extrema_example_es.svg.png\" width=\"300px\" height=\"100px\" />\n",
    "\n",
    "- Mediante optimización se obtienen soluciones elegantes tanto en teoría como en ciertas aplicaciones. \n",
    "- La teoría de optimización usa elementos comenzando con cálculo elemental y álgebra lineal básica, y luego se extiende con análisis funcional y convexo.\n",
    "- Las aplicaciones en optimización involucran ciencia, ingeniería, economía, finanzas e industria.\n",
    "- El amplio y creciente uso de la optimización lo hace escencial para estudiantes y profesionales de cualquier rama de la ciencia y la tecnología.\n",
    "\n",
    "**Referencia:**\n",
    "- http://www.math.uwaterloo.ca/~hwolkowi//henry/reports/talks.d/t06talks.d/06msribirs.d/optimportance.shtml\n",
    "\n"
   ]
  },
  {
   "cell_type": "markdown",
   "metadata": {},
   "source": [
    "<img style=\"float: right; margin: 0px 0px 15px 15px;\" src=\"https://upload.wikimedia.org/wikipedia/commons/thumb/e/e7/OpenStreetMap_routing_service.png/300px-OpenStreetMap_routing_service.png\" width=\"300px\" height=\"100px\" />\n",
    "\n",
    "### Algunas aplicaciones son:\n",
    "\n",
    "1. **Ingeniería:**\n",
    " - Encontrar la composición de equilibrio de una mezcla de diferentes átomos.\n",
    " - Planeación de ruta para un robot (o vehículo aéreo no tripulado).\n",
    " - Planeación de la mano de obra óptima en una construcción o planta de producción.\n",
    " - Análisis conformacional - Isomería conformacional en modelado molecular\n",
    " - Desempeño en fermentación de productos.\n",
    " - Estimación de parámetros en bioquímica e ingeniería metabólica.\n",
    " \n",
    " \n",
    "2. **Distribución óptima de recursos:**\n",
    " - Distribución de rutas de vuelo.\n",
    " - Encontrar una dieta óptima.\n",
    " - Planeación de ruta óptima.\n",
    " \n",
    " \n",
    "3. **Optimización financiera:**\n",
    " - Administración de riesgos.\n",
    " - Portafolios de inversión.\n",
    " - Problema de maximización de la utilidad.\n",
    " - "
   ]
  },
  {
   "cell_type": "markdown",
   "metadata": {},
   "source": [
    "### <p style=\"color:green;\">En esta clase veremos aspectos básicos de optimización. Específicamente, veremos cómo obtener máximos y mínimos de una función escalar de una variable (como en cálculo diferencial).</p>\n",
    "\n",
    "<img style=\"float: center\" src=\"https://matematicasies.com/local/cache-vignettes/L337xH278/extremos-77d0a.png\" width=\"400px\" height=\"100px\" />"
   ]
  },
  {
   "cell_type": "markdown",
   "metadata": {},
   "source": [
    "___\n",
    "## 0. Librerías que usaremos\n",
    "<img style=\"float: center\" src=\"https://upload.wikimedia.org/wikipedia/commons/thumb/4/4a/Python3-powered_hello-world.svg/1000px-Python3-powered_hello-world.svg.png\" width=\"300px\" height=\"100px\" />\n",
    "\n",
    "Como ya dijimos en la primer clase `python` es el lenguaje de programación (el cual es de alto nivel). Sin embargo, `python` solo tiene unos pocos comandos primitivos y para hacer más fácil su uso en nuestras actividades de simulación en ingeniería, otras personas ya han escrito ciertas librerías por nosotros."
   ]
  },
  {
   "cell_type": "markdown",
   "metadata": {},
   "source": [
    "### 0.1 `NumPy`\n",
    "\n",
    "<img style=\"float: right; margin: 0px 0px 15px 15px;\" src=\"http://www.numpy.org/_static/numpy_logo.png\" width=\"300px\" height=\"100px\" />\n",
    "\n",
    "`NumPy` (Numerical Python) es la librería fundamental para computación científica (numérica) con `Python`. Contiene, entre otras cosas:\n",
    "- un objeto tipo arreglo N-dimensional muy poderoso\n",
    "- funciones sofisticadas\n",
    "- funciones de álgebra lineal, transformada de Fourier y números aleatorios.\n",
    "\n",
    "Por lo anterior, `NumPy` es de amplio uso entre la comunidad científica e ingenieril (por su manejo de cantidades vectoriales). De la misma manera, se usa para guardar datos. Para nuestros propósitos, se puede usar libremente.\n",
    "\n",
    "**Referencia:**\n",
    "- http://www.numpy.org/"
   ]
  },
  {
   "cell_type": "markdown",
   "metadata": {},
   "source": [
    "`NumPy` ya viene incluido en la instalación estándar de Anaconda por defecto. Para comenzar a usarlo, solo debemos de importarlo:"
   ]
  },
  {
   "cell_type": "code",
   "execution_count": 1,
   "metadata": {},
   "outputs": [],
   "source": [
    "# Importar librería numpy\n",
    "import numpy as np"
   ]
  },
  {
   "cell_type": "markdown",
   "metadata": {},
   "source": [
    "### 0.2 `SymPy`\n",
    "\n",
    "<img style=\"float: right; margin: 0px 0px 15px 15px;\" src=\"http://www.sympy.org/static/images/logo.png\" width=\"300px\" height=\"100px\" />\n",
    "\n",
    "`SymPy` (Symbolic Python) es una librería de `Python` para matemáticas simbólicas. Su objetivo es convertirse en un sistema de álgebra computacional con las mejores características, manteniendo el código lo más simple posible para que sea comprensible.\n",
    "\n",
    "**Referencia:**\n",
    "- http://www.sympy.org/en/index.html"
   ]
  },
  {
   "cell_type": "markdown",
   "metadata": {},
   "source": [
    "`SymPy` ya viene incluido en la instalación estándar de Anaconda por defecto. Para comenzar a usarlo, solo debemos de importarlo:"
   ]
  },
  {
   "cell_type": "code",
   "execution_count": 2,
   "metadata": {},
   "outputs": [],
   "source": [
    "#Importarmos la librería sympy\n",
    "import sympy as sym\n",
    "\n",
<<<<<<< HEAD
    "\n",
    "\n",
    "# Imprimir datos en formato Latex\n",
    "sym.init_printing(use_latex=\"mathjax\")"
=======
    "# Imprimir datos en formato Latex\n",
    "sym.init_printing(use_latex='mathjax')"
>>>>>>> master
   ]
  },
  {
   "cell_type": "markdown",
   "metadata": {},
   "source": [
    "La funcionalidad de imprimir en formato LaTex que nos da `SymPy` mediante el proyecto `mathjax` hace de `SymPy` una herramienta muy atractiva..."
   ]
  },
  {
   "cell_type": "markdown",
   "metadata": {},
   "source": [
    "Notar que en `SymPy` y en `NumPy` existen funciones con el mismo nombre, pero reciben tipos de datos diferentes..."
   ]
  },
  {
   "cell_type": "code",
<<<<<<< HEAD
   "execution_count": 3,
=======
   "execution_count": 6,
>>>>>>> master
   "metadata": {},
   "outputs": [
    {
     "data": {
      "text/latex": [
       "$$\\cos{\\left (10 \\right )}$$"
      ],
      "text/plain": [
       "cos(10)"
      ]
     },
<<<<<<< HEAD
     "execution_count": 3,
=======
     "execution_count": 6,
>>>>>>> master
     "metadata": {},
     "output_type": "execute_result"
    }
   ],
   "source": [
    "sym.cos(10)"
   ]
  },
  {
   "cell_type": "code",
<<<<<<< HEAD
   "execution_count": 4,
=======
   "execution_count": 10,
>>>>>>> master
   "metadata": {},
   "outputs": [
    {
     "data": {
      "text/latex": [
       "$$\\cos{\\left (x \\right )}$$"
      ],
      "text/plain": [
       "cos(x)"
      ]
     },
<<<<<<< HEAD
     "execution_count": 4,
=======
     "execution_count": 10,
>>>>>>> master
     "metadata": {},
     "output_type": "execute_result"
    }
   ],
   "source": [
<<<<<<< HEAD
    "sym.var(\"x\",real=True)\n",
=======
    "sym.var('x',real=True)\n",
>>>>>>> master
    "\n",
    "sym.cos(x)"
   ]
  },
  {
   "cell_type": "markdown",
   "metadata": {},
   "source": [
    "Explicar el uso de la sintaxis `from numpy import *` y sus peligros (no recomendable)."
   ]
  },
  {
   "cell_type": "code",
   "execution_count": 5,
   "metadata": {},
   "outputs": [],
   "source": [
    "# importar con * y ver que pasa\n",
    "#from numpy import *\n",
    "#from sympy import *\n",
    "# No recomendado\n",
    "#b=array([3])\n",
    "#b\n",
    "#cos(x), \n",
    "#cos(3.1416)"
   ]
  },
  {
   "cell_type": "markdown",
   "metadata": {},
   "source": [
    "### 0.3 `PyPlot` de `matplotlib`\n",
    "\n",
    "<img style=\"float: right; margin: 0px 0px 15px 15px;\" src=\"https://matplotlib.org/_static/logo2.svg\" width=\"300px\" height=\"100px\" />\n",
    "\n",
    "El módulo `PyPlot` de la librería `matplotlib` contiene funciones que nos permite generar una gran cantidad de gráficas rápidamente. Las funciones de este módulo están escritas con el mismo nombre que las funciones para graficar en `Matlab`.\n",
    "\n",
    "**Referencia:**\n",
    "- https://matplotlib.org/api/pyplot_summary.html"
   ]
  },
  {
   "cell_type": "code",
<<<<<<< HEAD
   "execution_count": 6,
=======
   "execution_count": 10,
>>>>>>> master
   "metadata": {},
   "outputs": [],
   "source": [
    "# importar matplotlib.pyplot\n",
    "import matplotlib.pyplot as plt\n",
    "# comando para que las gráficas salgan en la misma ventana\n",
    "%matplotlib inline"
   ]
  },
  {
   "cell_type": "markdown",
   "metadata": {},
   "source": [
    "Ya que revisamos todas las librerías que usaremos, empecemos con la clase como tal..."
   ]
  },
  {
   "cell_type": "markdown",
   "metadata": {},
   "source": [
    "___\n",
    "<p style=\"color:red;\">Todos los resultados que veremos son basados en el siguiente teorema:</p>"
   ]
  },
  {
   "cell_type": "markdown",
   "metadata": {},
   "source": [
    "## 1. Teorema de Fermat (análisis)\n",
    "\n",
    "Si una función $f(x)$ alcanza un máximo o mínimo local en $x=c$, y si la derivada $f'(c)$ existe en el punto $c$, entonces $f'(c) = 0$."
   ]
  },
  {
   "cell_type": "markdown",
   "metadata": {},
   "source": [
    "### Ejemplo\n",
    "\n",
    "Sabemos que la función $f(x)=(x-2)^2$ tiene un mínimo global en $x=2$, pues\n",
    "\n",
    "$$f(x)=(x-2)^2\\geq0,\\qquad\\text{y}\\qquad f(x)=(x-2)^2=0 \\qquad\\text{si y solo si}\\qquad x=2.$$"
   ]
  },
  {
   "cell_type": "code",
<<<<<<< HEAD
   "execution_count": 7,
=======
   "execution_count": 33,
>>>>>>> master
   "metadata": {},
   "outputs": [
    {
     "data": {
      "text/latex": [
       "$$x$$"
      ],
      "text/plain": [
       "x"
      ]
     },
<<<<<<< HEAD
     "execution_count": 7,
=======
     "execution_count": 33,
>>>>>>> master
     "metadata": {},
     "output_type": "execute_result"
    }
   ],
   "source": [
    "#Declarar variable x como real\n",
<<<<<<< HEAD
    "sym.var(\"x\",real=True)\n"
=======
    "sym.var(\"x\",real=True)"
>>>>>>> master
   ]
  },
  {
   "cell_type": "code",
<<<<<<< HEAD
   "execution_count": 8,
=======
   "execution_count": 4,
>>>>>>> master
   "metadata": {},
   "outputs": [
    {
     "data": {
      "text/latex": [
       "$$\\left(x - 2\\right)^{2}$$"
      ],
      "text/plain": [
       "       2\n",
       "(x - 2) "
      ]
     },
<<<<<<< HEAD
     "execution_count": 8,
=======
     "execution_count": 4,
>>>>>>> master
     "metadata": {},
     "output_type": "execute_result"
    }
   ],
   "source": [
    "# Declarar función f y mostrar\n",
<<<<<<< HEAD
    "f=(x-2)**2\n",
=======
    "f = (x-2)**2\n",
>>>>>>> master
    "f"
   ]
  },
  {
   "cell_type": "code",
<<<<<<< HEAD
   "execution_count": 9,
=======
   "execution_count": 5,
>>>>>>> master
   "metadata": {},
   "outputs": [
    {
     "data": {
      "text/latex": [
       "$$2 x - 4$$"
      ],
      "text/plain": [
       "2⋅x - 4"
      ]
     },
<<<<<<< HEAD
     "execution_count": 9,
=======
     "execution_count": 5,
>>>>>>> master
     "metadata": {},
     "output_type": "execute_result"
    }
   ],
   "source": [
    "# Encontrar la primera derivada de la función f\n",
<<<<<<< HEAD
    "df=sym.diff(f,x)\n",
    "df\n"
=======
    "df = sym.diff(f,x)\n",
    "df"
>>>>>>> master
   ]
  },
  {
   "cell_type": "code",
<<<<<<< HEAD
   "execution_count": 10,
=======
   "execution_count": 6,
>>>>>>> master
   "metadata": {},
   "outputs": [
    {
     "data": {
      "text/latex": [
       "$$\\left [ 2\\right ]$$"
      ],
      "text/plain": [
       "[2]"
      ]
     },
<<<<<<< HEAD
     "execution_count": 10,
=======
     "execution_count": 6,
>>>>>>> master
     "metadata": {},
     "output_type": "execute_result"
    }
   ],
   "source": [
    "#Resolver f'(x)= 0 y mostrar punto\n",
    "xc = sym.solve(df,x)\n",
    "xc"
   ]
  },
  {
   "cell_type": "markdown",
   "metadata": {},
   "source": [
    "Veamos la gráfica..."
   ]
  },
  {
   "cell_type": "code",
<<<<<<< HEAD
   "execution_count": 11,
=======
   "execution_count": 7,
>>>>>>> master
   "metadata": {},
   "outputs": [],
   "source": [
    "# Convertir función simbólica f a una función numérica\n",
<<<<<<< HEAD
    "fnum=sym.lambdify(x,f,modules=\"numpy\")\n"
=======
    "fnum = sym.lambdify(x,f,modules=\"numpy\")"
>>>>>>> master
   ]
  },
  {
   "cell_type": "code",
<<<<<<< HEAD
   "execution_count": 12,
=======
   "execution_count": 13,
>>>>>>> master
   "metadata": {
    "scrolled": false
   },
   "outputs": [],
   "source": [
    "# Definir coordenas x\n",
<<<<<<< HEAD
    "xnum=np.linspace(-4,8,200)\n",
    "ynum=fnum(xnum)"
=======
    "xnum = np.linspace(-4,8,200)\n",
    "ynum = fnum(xnum)"
>>>>>>> master
   ]
  },
  {
   "cell_type": "code",
<<<<<<< HEAD
   "execution_count": 13,
=======
   "execution_count": 21,
>>>>>>> master
   "metadata": {},
   "outputs": [
    {
     "data": {
<<<<<<< HEAD
      "image/png": "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\n",
=======
      "image/png": "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\n",
>>>>>>> master
      "text/plain": [
       "<Figure size 576x432 with 1 Axes>"
      ]
     },
<<<<<<< HEAD
     "metadata": {
      "needs_background": "light"
     },
=======
     "metadata": {},
>>>>>>> master
     "output_type": "display_data"
    }
   ],
   "source": [
    "# Graficar\n",
    "# Crear nueva ventana de gráficos y se da medida a la ventana\n",
    "plt.figure(figsize=(8,6))\n",
    "\n",
<<<<<<< HEAD
    "plt.plot(xnum,ynum,\"k\",label=\"$y=8x-2)^2$\")\n",
    "plt.plot([2],[0],\"*y\",ms=15,label=\"$(2,0)$\")\n",
=======
    "plt.plot(xnum,ynum,\"--r\",label = \"$y=(x-2)^2$\")\n",
    "plt.plot([2],[0],'*y',ms=25,label='$(2,0)$')\n",
>>>>>>> master
    "\n",
    "#Nombrar los ejes de la gráfica\n",
    "plt.xlabel(\"$x$\")\n",
    "plt.ylabel(\"$f(x)=(x-2)^2$\")\n",
    "plt.legend(loc=\"best\")\n",
    "plt.grid()\n",
    "plt.show()"
   ]
  },
  {
   "cell_type": "markdown",
   "metadata": {},
   "source": [
    "### **Otra manera de hacer lo anterior**\n",
    "\n",
    "Revisemos el concepto de función en `Python`"
   ]
  },
  {
   "cell_type": "code",
<<<<<<< HEAD
   "execution_count": 24,
=======
   "execution_count": 22,
>>>>>>> master
   "metadata": {},
   "outputs": [],
   "source": [
    "#Definimos una función en Python\n",
    "def funcion_f(x):\n",
    "    return (x-2)**2"
   ]
  },
  {
   "cell_type": "code",
<<<<<<< HEAD
   "execution_count": 22,
=======
   "execution_count": 23,
>>>>>>> master
   "metadata": {},
   "outputs": [
    {
     "data": {
      "text/latex": [
       "$$x$$"
      ],
      "text/plain": [
       "x"
      ]
     },
<<<<<<< HEAD
     "execution_count": 22,
=======
     "execution_count": 23,
>>>>>>> master
     "metadata": {},
     "output_type": "execute_result"
    }
   ],
   "source": [
    "x"
   ]
  },
  {
   "cell_type": "code",
<<<<<<< HEAD
   "execution_count": 25,
=======
   "execution_count": 24,
>>>>>>> master
   "metadata": {},
   "outputs": [
    {
     "data": {
      "text/latex": [
       "$$\\left(x - 2\\right)^{2}$$"
      ],
      "text/plain": [
       "       2\n",
       "(x - 2) "
      ]
     },
<<<<<<< HEAD
     "execution_count": 25,
=======
     "execution_count": 24,
>>>>>>> master
     "metadata": {},
     "output_type": "execute_result"
    }
   ],
   "source": [
<<<<<<< HEAD
    "f_sym=funcion_f(x)\n",
=======
    "f_sym = funcion_f(x)\n",
>>>>>>> master
    "f_sym"
   ]
  },
  {
   "cell_type": "code",
   "execution_count": 28,
   "metadata": {},
   "outputs": [
    {
     "data": {
      "text/latex": [
       "$$2 x - 4$$"
      ],
      "text/plain": [
       "2⋅x - 4"
      ]
     },
     "execution_count": 28,
     "metadata": {},
     "output_type": "execute_result"
    }
   ],
   "source": [
    "df = sym.diff(f_sym,x)\n",
    "df"
   ]
  },
  {
   "cell_type": "code",
   "execution_count": 29,
   "metadata": {},
   "outputs": [
    {
     "data": {
      "text/latex": [
       "$$\\left [ 2\\right ]$$"
      ],
      "text/plain": [
       "[2]"
      ]
     },
     "execution_count": 29,
     "metadata": {},
     "output_type": "execute_result"
    }
   ],
   "source": [
<<<<<<< HEAD
    "xc=sym.solve(df,x)\n",
=======
    "xc = sym.solve(df,x)\n",
>>>>>>> master
    "xc"
   ]
  },
  {
   "cell_type": "code",
<<<<<<< HEAD
   "execution_count": 30,
=======
   "execution_count": 32,
>>>>>>> master
   "metadata": {},
   "outputs": [
    {
     "data": {
<<<<<<< HEAD
      "image/png": "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\n",
      "text/plain": [
       "<Figure size 576x432 with 1 Axes>"
      ]
     },
     "metadata": {
      "needs_background": "light"
     },
=======
      "image/png": "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\n",
      "text/plain": [
       "<Figure size 720x576 with 1 Axes>"
      ]
     },
     "metadata": {},
>>>>>>> master
     "output_type": "display_data"
    }
   ],
   "source": [
    "# Graficar\n",
<<<<<<< HEAD
    "xnum=np.linspace(-8,8,500)\n",
    "ynum=funcion_f(xnum)\n",
    "\n",
    "# Crear nueva ventana de gráficos y se da medida a la ventana\n",
    "plt.figure(figsize=(8,6))\n",
    "\n",
    "plt.plot(xnum,ynum,\":g\",label=\"$y=8x-2)^2$\")\n",
    "plt.plot([2],[0],\"*y\",ms=15,label=\"$(2,0)$\")\n",
    "\n",
=======
    "xnum = np.linspace(-8,8,500)\n",
    "ynum = funcion_f(xnum)\n",
    "\n",
    "# Crear el tamaño de la figura a graficar\n",
    "plt.figure(figsize=(10,8))\n",
    "\n",
    "plt.plot(xnum,ynum,\"g\",label = \"$y=(x-2)^2$\")\n",
    "plt.plot([2],[0],'*y',ms=25,label='$(2,0)$')\n",
    "\n",
>>>>>>> master
    "#Nombrar los ejes de la gráfica\n",
    "plt.xlabel(\"$x$\")\n",
    "plt.ylabel(\"$f(x)=(x-2)^2$\")\n",
    "plt.legend(loc=\"best\")\n",
    "plt.grid()\n",
    "plt.show()"
   ]
  },
  {
   "cell_type": "markdown",
   "metadata": {},
   "source": [
    "**El converso del teorema anterior no es cierto.**\n",
    "\n",
    "### Actividad\n",
    "Considere $g(x)=(x-2)^3$. \n",
    "- Usando `sympy`, muestre que $g'(2)=0$.\n",
    "- Sin embargo, descartar que $x=2$ es un extremo de $g(x)$ viendo su **gráfica**."
   ]
  },
  {
   "cell_type": "code",
<<<<<<< HEAD
   "execution_count": 31,
=======
   "execution_count": 34,
>>>>>>> master
   "metadata": {},
   "outputs": [],
   "source": [
    "def g(x):\n",
    "    return (x-2)**3"
   ]
  },
  {
   "cell_type": "code",
<<<<<<< HEAD
   "execution_count": 32,
=======
   "execution_count": 37,
>>>>>>> master
   "metadata": {},
   "outputs": [
    {
     "data": {
      "text/latex": [
<<<<<<< HEAD
       "$$x$$"
      ],
      "text/plain": [
       "x"
      ]
     },
     "execution_count": 32,
=======
       "$$3 \\left(x - 2\\right)^{2}$$"
      ],
      "text/plain": [
       "         2\n",
       "3⋅(x - 2) "
      ]
     },
     "execution_count": 37,
>>>>>>> master
     "metadata": {},
     "output_type": "execute_result"
    }
   ],
   "source": [
<<<<<<< HEAD
    "x"
=======
    "dg = sym.diff(g(x),x)\n",
    "dg"
>>>>>>> master
   ]
  },
  {
   "cell_type": "code",
<<<<<<< HEAD
   "execution_count": 33,
=======
   "execution_count": 38,
>>>>>>> master
   "metadata": {},
   "outputs": [
    {
     "data": {
      "text/latex": [
<<<<<<< HEAD
       "$$\\left(x - 2\\right)^{3}$$"
      ],
      "text/plain": [
       "       3\n",
       "(x - 2) "
      ]
     },
     "execution_count": 33,
=======
       "$$\\left [ 2\\right ]$$"
      ],
      "text/plain": [
       "[2]"
      ]
     },
     "execution_count": 38,
>>>>>>> master
     "metadata": {},
     "output_type": "execute_result"
    }
   ],
   "source": [
<<<<<<< HEAD
    "f_sym=g(x)\n",
    "f_sym"
=======
    "xc = sym.solve(dg,x)\n",
    "xc"
>>>>>>> master
   ]
  },
  {
   "cell_type": "code",
<<<<<<< HEAD
   "execution_count": 34,
=======
   "execution_count": 39,
>>>>>>> master
   "metadata": {},
   "outputs": [
    {
     "data": {
      "text/latex": [
<<<<<<< HEAD
       "$$3 \\left(x - 2\\right)^{2}$$"
      ],
      "text/plain": [
       "         2\n",
       "3⋅(x - 2) "
      ]
     },
     "execution_count": 34,
=======
       "$$0$$"
      ],
      "text/plain": [
       "0"
      ]
     },
     "execution_count": 39,
>>>>>>> master
     "metadata": {},
     "output_type": "execute_result"
    }
   ],
   "source": [
<<<<<<< HEAD
    "df = sym.diff(f_sym,x)\n",
    "df"
=======
    "dg.subs(x,2)"
>>>>>>> master
   ]
  },
  {
   "cell_type": "code",
   "execution_count": 40,
   "metadata": {},
   "outputs": [
    {
     "data": {
<<<<<<< HEAD
      "image/png": "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\n",
      "text/plain": [
       "<Figure size 576x432 with 1 Axes>"
      ]
     },
     "metadata": {
      "needs_background": "light"
     },
=======
      "image/png": "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\n",
      "text/plain": [
       "<Figure size 864x720 with 1 Axes>"
      ]
     },
     "metadata": {},
>>>>>>> master
     "output_type": "display_data"
    }
   ],
   "source": [
    "# Graficar\n",
<<<<<<< HEAD
    "xnum=np.linspace(-2,2,1000)\n",
    "ynum=g(xnum)\n",
    "\n",
    "# Crear nueva ventana de gráficos y se da medida a la ventana\n",
    "plt.figure(figsize=(8,6))\n",
    "\n",
    "plt.plot(xnum,ynum,\":g\",label=\"$y=8x-2)^2$\")\n",
    "plt.plot([2],[0],\"*y\",ms=15,label=\"$(2,0)$\")\n",
    "\n",
    "#Nombrar los ejes de la gráfica\n",
    "plt.xlabel(\"$x$\")\n",
    "plt.ylabel(\"$f(x)=(x-2)^2$\")\n",
    "plt.legend(loc=\"best\")\n",
    "plt.grid()\n",
    "plt.show()\n"
=======
    "xnum = np.linspace(-3,7,1000)\n",
    "ynum = g(xnum)\n",
    "\n",
    "# Crear el tamaño de la figura a graficar\n",
    "plt.figure(figsize=(12,10))\n",
    "\n",
    "plt.plot(xnum,ynum,\"k\",label = \"$y=(x-2)^3$\")\n",
    "plt.plot([2],[0],'*y',ms=25,label='$(2,0)$')\n",
    "\n",
    "#Nombrar los ejes de la gráfica\n",
    "plt.xlabel(\"$x$\")\n",
    "plt.ylabel(\"$f(x)=(x-2)^3$\")\n",
    "plt.legend(loc=\"best\")\n",
    "plt.grid()\n",
    "plt.show()"
>>>>>>> master
   ]
  },
  {
   "cell_type": "markdown",
   "metadata": {},
   "source": [
    "## 2. Criterio de la segunda derivada\n",
    "\n",
    "Sea $f(x)$ una función tal que $f’(c)=0$ y cuya segunda derivada existe en un intervalo abierto que contiene a $c$.\n",
    "- Si $f’’(c)>0$, entonces $f(c)$ es un mínimo relativo.\n",
    "- Si $f’’(c)<0$, entonces $f(c)$ es un máximo relativo.\n",
    "- Si $f’’(c)=0$, entonces el criterio no decide. "
   ]
  },
  {
   "cell_type": "markdown",
   "metadata": {},
   "source": [
    "### Ejemplo\n",
    "\n",
    "Mostrar, usando `sympy`, que la función $f(x)=(x-2)^2$ tiene un mínimo relativo en $x=2$.\n",
    "\n",
    "Ya vimos que $f'(2)=0$. Notemos que:"
   ]
  },
  {
   "cell_type": "code",
<<<<<<< HEAD
   "execution_count": 46,
=======
   "execution_count": 41,
>>>>>>> master
   "metadata": {},
   "outputs": [],
   "source": [
    "def f1(x):\n",
    "    return (x-2)**2"
   ]
  },
  {
   "cell_type": "code",
<<<<<<< HEAD
   "execution_count": 47,
=======
   "execution_count": 43,
>>>>>>> master
   "metadata": {},
   "outputs": [
    {
     "data": {
      "text/latex": [
       "$$2$$"
      ],
      "text/plain": [
       "2"
      ]
     },
<<<<<<< HEAD
     "execution_count": 47,
=======
     "execution_count": 43,
>>>>>>> master
     "metadata": {},
     "output_type": "execute_result"
    }
   ],
   "source": [
<<<<<<< HEAD
    "d2f=sym.diff(f1(x),x,2)\n",
=======
    "d2f = sym.diff(f1(x),x,2)\n",
>>>>>>> master
    "d2f"
   ]
  },
  {
   "cell_type": "code",
<<<<<<< HEAD
   "execution_count": 48,
=======
   "execution_count": 44,
>>>>>>> master
   "metadata": {},
   "outputs": [
    {
     "data": {
      "text/latex": [
       "$$2$$"
      ],
      "text/plain": [
       "2"
      ]
     },
<<<<<<< HEAD
     "execution_count": 48,
=======
     "execution_count": 44,
>>>>>>> master
     "metadata": {},
     "output_type": "execute_result"
    }
   ],
   "source": [
    "d2f.subs(x,2)"
   ]
  },
  {
   "cell_type": "markdown",
   "metadata": {},
   "source": [
    "Por tanto, por el criterio de la segunda derivada, $f(2)=0$ es un mínimo relativo (en efecto, el mínimo global)."
   ]
  },
  {
   "cell_type": "markdown",
   "metadata": {},
   "source": [
    "### Ejemplo\n",
    "¿Qué pasa con $g(x)=(x-2)^3$ al intentar utilizar el criterio de la segunda derivada? (usar `sympy`)."
   ]
  },
  {
   "cell_type": "code",
<<<<<<< HEAD
   "execution_count": 49,
   "metadata": {},
   "outputs": [],
   "source": [
    "def g(x):\n",
    "    return(x-2)**3"
=======
   "execution_count": 45,
   "metadata": {},
   "outputs": [],
   "source": [
    "def g1(x):\n",
    "    return (x-2)**3"
>>>>>>> master
   ]
  },
  {
   "cell_type": "code",
<<<<<<< HEAD
   "execution_count": 55,
=======
   "execution_count": 46,
>>>>>>> master
   "metadata": {},
   "outputs": [
    {
     "data": {
      "text/latex": [
       "$$6 \\left(x - 2\\right)$$"
      ],
      "text/plain": [
       "6⋅(x - 2)"
      ]
     },
<<<<<<< HEAD
     "execution_count": 55,
=======
     "execution_count": 46,
>>>>>>> master
     "metadata": {},
     "output_type": "execute_result"
    }
   ],
   "source": [
<<<<<<< HEAD
    "d2g=sym.diff(g(x),x,2)\n",
=======
    "d2g = sym.diff(g1(x),x,2)\n",
>>>>>>> master
    "d2g"
   ]
  },
  {
   "cell_type": "code",
<<<<<<< HEAD
   "execution_count": 17,
   "metadata": {},
   "outputs": [],
=======
   "execution_count": 47,
   "metadata": {},
   "outputs": [
    {
     "data": {
      "text/latex": [
       "$$0$$"
      ],
      "text/plain": [
       "0"
      ]
     },
     "execution_count": 47,
     "metadata": {},
     "output_type": "execute_result"
    }
   ],
>>>>>>> master
   "source": [
    "d2g.subs(x,2)"
   ]
  },
  {
   "cell_type": "markdown",
   "metadata": {},
   "source": [
    "Como $g''(2)=0$ entonces el criterio de la segunda derivada no concluye."
   ]
  },
  {
   "cell_type": "markdown",
   "metadata": {},
   "source": [
    "### Actividad\n",
    "\n",
    "¿Qué pasa con $h(x)=(x-2)^4$ al intentar utilizar el criterio de la segunda derivada?."
   ]
  },
  {
   "cell_type": "code",
<<<<<<< HEAD
   "execution_count": 58,
=======
   "execution_count": 48,
>>>>>>> master
   "metadata": {},
   "outputs": [],
   "source": [
    "def h(x):\n",
<<<<<<< HEAD
    "    return(x-2)**4"
=======
    "    return (x-2)**4"
>>>>>>> master
   ]
  },
  {
   "cell_type": "code",
<<<<<<< HEAD
   "execution_count": 59,
=======
   "execution_count": 49,
>>>>>>> master
   "metadata": {},
   "outputs": [
    {
     "data": {
      "text/latex": [
       "$$4 \\left(x - 2\\right)^{3}$$"
      ],
      "text/plain": [
       "         3\n",
       "4⋅(x - 2) "
      ]
     },
<<<<<<< HEAD
     "execution_count": 59,
=======
     "execution_count": 49,
>>>>>>> master
     "metadata": {},
     "output_type": "execute_result"
    }
   ],
   "source": [
<<<<<<< HEAD
    "dh=sym.diff(h(x),x)\n",
=======
    "dh = sym.diff(h(x),x)\n",
>>>>>>> master
    "dh"
   ]
  },
  {
   "cell_type": "code",
<<<<<<< HEAD
   "execution_count": 60,
=======
   "execution_count": 50,
>>>>>>> master
   "metadata": {},
   "outputs": [
    {
     "data": {
      "text/latex": [
       "$$\\left [ 2\\right ]$$"
      ],
      "text/plain": [
       "[2]"
      ]
     },
<<<<<<< HEAD
     "execution_count": 60,
=======
     "execution_count": 50,
>>>>>>> master
     "metadata": {},
     "output_type": "execute_result"
    }
   ],
   "source": [
<<<<<<< HEAD
    "xc=sym.solve(dh,x)\n",
=======
    "xc = sym.solve(dh,x)\n",
>>>>>>> master
    "xc"
   ]
  },
  {
   "cell_type": "code",
<<<<<<< HEAD
   "execution_count": 61,
=======
   "execution_count": 51,
>>>>>>> master
   "metadata": {},
   "outputs": [
    {
     "data": {
      "text/latex": [
       "$$12 \\left(x - 2\\right)^{2}$$"
      ],
      "text/plain": [
       "          2\n",
       "12⋅(x - 2) "
      ]
     },
<<<<<<< HEAD
     "execution_count": 61,
=======
     "execution_count": 51,
>>>>>>> master
     "metadata": {},
     "output_type": "execute_result"
    }
   ],
   "source": [
<<<<<<< HEAD
    "dh2=sym.diff(h(x),x,2)\n",
=======
    "dh2 = sym.diff(h(x),x,2)\n",
>>>>>>> master
    "dh2"
   ]
  },
  {
   "cell_type": "code",
<<<<<<< HEAD
   "execution_count": 62,
=======
   "execution_count": 53,
>>>>>>> master
   "metadata": {},
   "outputs": [
    {
     "data": {
      "text/latex": [
       "$$0$$"
      ],
      "text/plain": [
       "0"
      ]
     },
<<<<<<< HEAD
     "execution_count": 62,
=======
     "execution_count": 53,
>>>>>>> master
     "metadata": {},
     "output_type": "execute_result"
    }
   ],
   "source": [
    "dh2.subs(x,2)"
   ]
  },
  {
   "cell_type": "code",
<<<<<<< HEAD
   "execution_count": 64,
=======
   "execution_count": 55,
>>>>>>> master
   "metadata": {},
   "outputs": [
    {
     "data": {
<<<<<<< HEAD
      "image/png": "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\n",
=======
      "image/png": "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\n",
>>>>>>> master
      "text/plain": [
       "<Figure size 864x720 with 1 Axes>"
      ]
     },
<<<<<<< HEAD
     "metadata": {
      "needs_background": "light"
     },
=======
     "metadata": {},
>>>>>>> master
     "output_type": "display_data"
    }
   ],
   "source": [
    "# Graficar\n",
<<<<<<< HEAD
    "xnum=np.linspace(0,4,1000)\n",
    "ynum=h(xnum)\n",
    "\n",
    "# Crear nueva ventana de gráficos y se da medida a la ventana\n",
    "plt.figure(figsize=(12,10))\n",
    "\n",
    "plt.plot(xnum,ynum,\"b\",label=\"$y=8x-2)^2$\")\n",
    "plt.plot([2],[0],\"*g\",ms=15,label=\"$(2,0)$\")\n",
    "\n",
    "#Nombrar los ejes de la gráfica\n",
    "plt.xlabel(\"$x$\")\n",
    "plt.ylabel(\"$f(x)=(x-2)^2$\")\n",
    "plt.legend(loc=\"best\")\n",
    "plt.grid()\n",
    "plt.show()\n"
=======
    "xnum = np.linspace(0,4,100)\n",
    "ynum = h(xnum)\n",
    "\n",
    "# Crear el tamaño de la figura a graficar\n",
    "plt.figure(figsize=(12,10))\n",
    "\n",
    "plt.plot(xnum,ynum,\"b\",label = \"$y=(x-2)^4$\")\n",
    "plt.plot([2],[0],'*g',ms=20,label='$(2,0)$')\n",
    "\n",
    "#Nombrar los ejes de la gráfica\n",
    "plt.xlabel(\"$x$\")\n",
    "plt.ylabel(\"$f(x)=(x-2)^4$\")\n",
    "plt.legend(loc=\"best\")\n",
    "plt.grid()\n",
    "plt.show()"
>>>>>>> master
   ]
  },
  {
   "cell_type": "markdown",
   "metadata": {},
   "source": [
    "## 3. Método para determinar extremos absolutos de una función continua y=f(x) en [a,b] \n",
    "\n",
    "- Determinar todos los valores críticos $c_1, c_2, c_3, \\dots, c_n$ en $(a,b)$.\n",
    "- Evaluar $f$ en todos los valores críticos y en los extremos $x=a$ y $x=b$.\n",
    "- El más grande y el más pequeño de los valores de la lista $f(a), f(b), f(c_1), f(c_2), \\dots, f(c_n)$ son el máximo absoluto y el mínimo absoluto, respectivamente, de $f$ en el intervalo $[a,b]$."
   ]
  },
  {
   "cell_type": "markdown",
   "metadata": {
    "collapsed": true
   },
   "source": [
    "### Ejemplo\n",
    "\n",
    "Determinar los extremos absolutos de $f(x)=x^2-2x+5$ en $\\left[0,3\\right]$.\n",
    "\n",
    "Obtenemos los puntos críticos de $f$ en $\\left[0,3\\right]$:"
   ]
  },
  {
   "cell_type": "code",
<<<<<<< HEAD
   "execution_count": 66,
=======
   "execution_count": 56,
>>>>>>> master
   "metadata": {},
   "outputs": [],
   "source": [
    "def f(x):\n",
    "    return x**2-2*x+5"
   ]
  },
  {
   "cell_type": "code",
<<<<<<< HEAD
   "execution_count": 67,
=======
   "execution_count": 59,
>>>>>>> master
   "metadata": {},
   "outputs": [
    {
     "data": {
      "text/latex": [
       "$$x^{2} - 2 x + 5$$"
      ],
      "text/plain": [
       " 2          \n",
       "x  - 2⋅x + 5"
      ]
     },
<<<<<<< HEAD
     "execution_count": 67,
=======
     "execution_count": 59,
>>>>>>> master
     "metadata": {},
     "output_type": "execute_result"
    }
   ],
   "source": [
    "f(x)"
   ]
  },
  {
   "cell_type": "code",
<<<<<<< HEAD
   "execution_count": 68,
=======
   "execution_count": 57,
>>>>>>> master
   "metadata": {},
   "outputs": [
    {
     "data": {
      "text/latex": [
       "$$2 x - 2$$"
      ],
      "text/plain": [
       "2⋅x - 2"
      ]
     },
<<<<<<< HEAD
     "execution_count": 68,
=======
     "execution_count": 57,
>>>>>>> master
     "metadata": {},
     "output_type": "execute_result"
    }
   ],
   "source": [
<<<<<<< HEAD
    "df=sym.diff(f(x),x)\n",
=======
    "df = sym.diff(f(x),x)\n",
>>>>>>> master
    "df"
   ]
  },
  {
   "cell_type": "code",
<<<<<<< HEAD
   "execution_count": 69,
=======
   "execution_count": 60,
>>>>>>> master
   "metadata": {},
   "outputs": [
    {
     "data": {
      "text/latex": [
       "$$\\left [ 1\\right ]$$"
      ],
      "text/plain": [
       "[1]"
      ]
     },
<<<<<<< HEAD
     "execution_count": 69,
=======
     "execution_count": 60,
>>>>>>> master
     "metadata": {},
     "output_type": "execute_result"
    }
   ],
   "source": [
<<<<<<< HEAD
    "xc=sym.solve(df,x)\n",
=======
    "xc = sym.solve(df,x)\n",
>>>>>>> master
    "xc"
   ]
  },
  {
   "cell_type": "markdown",
   "metadata": {},
   "source": [
    "Evaluamos $f$ en los extremos y en los puntos críticos:"
   ]
  },
  {
   "cell_type": "code",
<<<<<<< HEAD
   "execution_count": 70,
=======
   "execution_count": 61,
>>>>>>> master
   "metadata": {},
   "outputs": [
    {
     "data": {
      "text/latex": [
       "$$\\left ( 5, \\quad 4, \\quad 8\\right )$$"
      ],
      "text/plain": [
       "(5, 4, 8)"
      ]
     },
<<<<<<< HEAD
     "execution_count": 70,
=======
     "execution_count": 61,
>>>>>>> master
     "metadata": {},
     "output_type": "execute_result"
    }
   ],
   "source": [
    "f(0), f(1), f(3)"
   ]
  },
  {
   "cell_type": "markdown",
   "metadata": {},
   "source": [
    "Concluimos que el máximo absoluto de $f$ en $\\left[0,3\\right]$ es $8$ y se alcanza en $x=3$, y que el mínimo absoluto es $4$ y se alcanza en $x=1$."
   ]
  },
  {
   "cell_type": "code",
<<<<<<< HEAD
   "execution_count": 19,
   "metadata": {},
   "outputs": [],
   "source": [
    "# Graficar\n",
    "xnum=np.linspace(0,3,150)\n",
    "ynum=f(xnum)\n",
    "\n",
    "# Crear nueva ventana de gráficos y se da medida a la ventana\n",
    "plt.figure(figsize=(8,6))\n",
    "\n",
    "plt.plot(xnum,ynum,\"r\",label=\"$f(x)=x^2-2x+5$\")\n",
    "plt.plot([3],[8],\"*g\",ms=20,label=\"$(2,0)$\")\n",
    "\n",
    "#Nombrar los ejes de la gráfica\n",
    "plt.xlabel(\"$x$\")\n",
    "plt.ylabel(\"$f(x)=(x-2)^2$\")\n",
    "plt.legend(loc=\"best\")\n",
    "plt.grid()\n",
    "plt.show()\n",
    "\n"
=======
   "execution_count": 64,
   "metadata": {},
   "outputs": [
    {
     "data": {
      "image/png": "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\n",
      "text/plain": [
       "<Figure size 576x432 with 1 Axes>"
      ]
     },
     "metadata": {},
     "output_type": "display_data"
    }
   ],
   "source": [
    "#Gráfica\n",
    "xnum = np.linspace(0,3,150)\n",
    "ynum = f(xnum)\n",
    "\n",
    "# Crear el tamaño de la figura a graficar\n",
    "plt.figure(figsize=(8,6))\n",
    "\n",
    "plt.plot(xnum,ynum,\"r\",label = \"$f(x)=x^2-2x+5$\")\n",
    "plt.plot([3],[8],'*g',ms=20,label='Punto máximo absoluto $(3,8)$ en el intervalo dado')\n",
    "plt.plot([1],[4],'*k',ms=20,label='Punto mínimo absoluto $(1,4)$ en el intervalo dado')\n",
    "\n",
    "#Nombrar los ejes de la gráfica\n",
    "plt.xlabel(\"$x$\")\n",
    "plt.ylabel(\"$f(x)=x^2-2x+5$\")\n",
    "plt.legend(loc=\"best\")\n",
    "plt.grid()\n",
    "plt.show()"
>>>>>>> master
   ]
  },
  {
   "cell_type": "markdown",
   "metadata": {},
   "source": [
    "### Actividad\n",
    "Determinar los valores extremos absolutos de  $f(x) = (x-3)^2(x+3)^2$ en el intervalo $[1,\\,4]$, usando `sympy`. Mostrar en una gráfica."
   ]
  },
  {
   "cell_type": "code",
   "execution_count": null,
   "metadata": {},
   "outputs": [],
   "source": []
  },
  {
   "cell_type": "code",
   "execution_count": null,
   "metadata": {},
   "outputs": [],
   "source": []
  },
  {
   "cell_type": "code",
   "execution_count": null,
   "metadata": {},
   "outputs": [],
   "source": []
  },
  {
   "cell_type": "code",
   "execution_count": null,
   "metadata": {},
   "outputs": [],
   "source": []
  },
  {
   "cell_type": "code",
   "execution_count": 20,
   "metadata": {},
   "outputs": [],
   "source": [
    "\n",
    "#Grafica\n",
    "# Crear nueva ventana de gráficos y se da medida a la ventana\n",
    "\n",
    "#Nombrar los ejes de la gráfica\n"
   ]
  },
  {
   "cell_type": "code",
   "execution_count": null,
   "metadata": {},
   "outputs": [],
   "source": []
  },
  {
   "cell_type": "code",
   "execution_count": null,
   "metadata": {},
   "outputs": [],
   "source": []
  },
  {
   "cell_type": "markdown",
   "metadata": {},
   "source": [
    "### En varias variables...\n",
    "\n",
    "El procedimiento es análogo. \n",
    "\n",
    "Si una función $f:\\mathbb{R}^n\\to\\mathbb{R}$ alcanza un máximo o mínimo local en $\\boldsymbol{x}=\\boldsymbol{c}\\in\\mathbb{R}^n$, y $f$ es diferenciable en el punto $\\boldsymbol{x}=\\boldsymbol{c}$, entonces $\\left.\\frac{\\partial f}{\\partial \\boldsymbol{x}}\\right|_{\\boldsymbol{x}=\\boldsymbol{c}}=\\boldsymbol{0}$ (todas las derivadas parciales en el punto $\\boldsymbol{x}=\\boldsymbol{c}$ son cero).\n",
    "\n",
    "**Criterio de la segunda derivada:** para ver si es máximo o mínimo, se toma la segunda derivada (matriz jacobiana) y se verifica definición negativa o positiva, respectivamente.\n",
    "\n",
    "Si se restringe a cierta región, hay ciertas técnicas. La más general, pero también la más compleja es la de **multiplicadores de Lagrange**."
   ]
  },
  {
   "cell_type": "markdown",
   "metadata": {},
   "source": [
    "**Ejemplo:** Determinar los valores extremo de $z(x,y)= (x-3)^2 + (y+5)^2$ usando el criterio de la segunda derivada y corroborarlo con la gráfica."
   ]
  },
  {
   "cell_type": "code",
   "execution_count": null,
   "metadata": {},
   "outputs": [],
   "source": []
  },
  {
   "cell_type": "code",
   "execution_count": null,
   "metadata": {},
   "outputs": [],
   "source": []
  },
  {
   "cell_type": "code",
   "execution_count": null,
   "metadata": {},
   "outputs": [],
   "source": []
  },
  {
   "cell_type": "code",
   "execution_count": null,
   "metadata": {},
   "outputs": [],
   "source": []
  },
  {
   "cell_type": "code",
   "execution_count": null,
   "metadata": {},
   "outputs": [],
   "source": []
  },
  {
   "cell_type": "code",
   "execution_count": null,
   "metadata": {},
   "outputs": [],
   "source": []
  },
  {
   "cell_type": "markdown",
   "metadata": {},
   "source": [
    "### Tarea 2.\n",
    "\n",
    "1. Obtener máximos y mínimos absolutos, usando `sympy`, de las funciones dadas en los intervalos dados, y graficar la función en dicho intervalo señalando los puntos máximo y mínimo.\n",
    "\n",
    "    + $f(x)=-3x^3+9x+2$ en $[-1.8,\\,1.5]$\n",
    "    + $g(x) = x^3-6x^2+9x-4$ en el intervalo $[0, \\,2.5]$"
   ]
  },
  {
   "cell_type": "markdown",
   "metadata": {},
   "source": [
    "<script>\n",
    "  $(document).ready(function(){\n",
    "    $('div.prompt').hide();\n",
    "    $('div.back-to-top').hide();\n",
    "    $('nav#menubar').hide();\n",
    "    $('.breadcrumb').hide();\n",
    "    $('.hidden-print').hide();\n",
    "  });\n",
    "</script>\n",
    "\n",
    "<footer id=\"attribution\" style=\"float:right; color:#808080; background:#fff;\">\n",
    "Created with Jupyter by Cristian Camilo Zapata Zuluaga.\n",
    "</footer>"
   ]
  },
  {
   "cell_type": "code",
   "execution_count": null,
   "metadata": {},
   "outputs": [],
   "source": []
  }
 ],
 "metadata": {
  "kernelspec": {
   "display_name": "Python 3",
   "language": "python",
   "name": "python3"
  },
  "language_info": {
   "codemirror_mode": {
    "name": "ipython",
    "version": 3
   },
   "file_extension": ".py",
   "mimetype": "text/x-python",
   "name": "python",
   "nbconvert_exporter": "python",
   "pygments_lexer": "ipython3",
   "version": "3.6.6"
  }
 },
 "nbformat": 4,
 "nbformat_minor": 2
}
